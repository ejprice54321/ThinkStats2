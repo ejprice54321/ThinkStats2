{
 "cells": [
  {
   "cell_type": "markdown",
   "metadata": {},
   "source": [
    "# Homework 1\n",
    "\n",
    "Load and validate GSS data\n",
    "\n",
    "Allen Downey\n",
    "\n",
    "[MIT License](https://en.wikipedia.org/wiki/MIT_License)"
   ]
  },
  {
   "cell_type": "code",
   "execution_count": 2,
   "metadata": {
    "collapsed": true
   },
   "outputs": [],
   "source": [
    "%matplotlib inline\n",
    "\n",
    "import pandas as pd\n",
    "import numpy as np\n",
    "\n",
    "import matplotlib.pyplot as plt\n",
    "import seaborn as sns\n",
    "sns.set(style='white')\n",
    "\n",
    "import utils\n",
    "from utils import decorate\n",
    "from thinkstats2 import Pmf, Cdf"
   ]
  },
  {
   "cell_type": "markdown",
   "metadata": {},
   "source": [
    "## Loading and validation\n"
   ]
  },
  {
   "cell_type": "code",
   "execution_count": 3,
   "metadata": {
    "collapsed": true
   },
   "outputs": [],
   "source": [
    "def read_gss(dirname):\n",
    "    \"\"\"Reads GSS files from the given directory.\n",
    "    \n",
    "    dirname: string\n",
    "    \n",
    "    returns: DataFrame\n",
    "    \"\"\"\n",
    "    dct = utils.read_stata_dict(dirname + '/GSS.dct')\n",
    "    gss = dct.read_fixed_width(dirname + '/GSS.dat.gz',\n",
    "                             compression='gzip')\n",
    "    return gss"
   ]
  },
  {
   "cell_type": "markdown",
   "metadata": {},
   "source": [
    "Read the variables I selected from the GSS dataset.  You can look up these variables at https://gssdataexplorer.norc.org/variables/vfilter"
   ]
  },
  {
   "cell_type": "code",
   "execution_count": 4,
   "metadata": {},
   "outputs": [
    {
     "name": "stdout",
     "output_type": "stream",
     "text": [
      "(62466, 101)\n"
     ]
    },
    {
     "data": {
      "text/html": [
       "<div>\n",
       "<style>\n",
       "    .dataframe thead tr:only-child th {\n",
       "        text-align: right;\n",
       "    }\n",
       "\n",
       "    .dataframe thead th {\n",
       "        text-align: left;\n",
       "    }\n",
       "\n",
       "    .dataframe tbody tr th {\n",
       "        vertical-align: top;\n",
       "    }\n",
       "</style>\n",
       "<table border=\"1\" class=\"dataframe\">\n",
       "  <thead>\n",
       "    <tr style=\"text-align: right;\">\n",
       "      <th></th>\n",
       "      <th>year</th>\n",
       "      <th>id_</th>\n",
       "      <th>agewed</th>\n",
       "      <th>divorce</th>\n",
       "      <th>sibs</th>\n",
       "      <th>childs</th>\n",
       "      <th>age</th>\n",
       "      <th>educ</th>\n",
       "      <th>paeduc</th>\n",
       "      <th>maeduc</th>\n",
       "      <th>...</th>\n",
       "      <th>memchurh</th>\n",
       "      <th>realinc</th>\n",
       "      <th>cohort</th>\n",
       "      <th>marcohrt</th>\n",
       "      <th>ballot</th>\n",
       "      <th>wtssall</th>\n",
       "      <th>adults</th>\n",
       "      <th>compuse</th>\n",
       "      <th>databank</th>\n",
       "      <th>wtssnr</th>\n",
       "    </tr>\n",
       "  </thead>\n",
       "  <tbody>\n",
       "    <tr>\n",
       "      <th>0</th>\n",
       "      <td>1972</td>\n",
       "      <td>1</td>\n",
       "      <td>0</td>\n",
       "      <td>0</td>\n",
       "      <td>3</td>\n",
       "      <td>0</td>\n",
       "      <td>23</td>\n",
       "      <td>16</td>\n",
       "      <td>10</td>\n",
       "      <td>97</td>\n",
       "      <td>...</td>\n",
       "      <td>0</td>\n",
       "      <td>18951.0</td>\n",
       "      <td>1949</td>\n",
       "      <td>0</td>\n",
       "      <td>0</td>\n",
       "      <td>0.4446</td>\n",
       "      <td>1</td>\n",
       "      <td>0</td>\n",
       "      <td>0</td>\n",
       "      <td>1.0</td>\n",
       "    </tr>\n",
       "    <tr>\n",
       "      <th>1</th>\n",
       "      <td>1972</td>\n",
       "      <td>2</td>\n",
       "      <td>21</td>\n",
       "      <td>2</td>\n",
       "      <td>4</td>\n",
       "      <td>5</td>\n",
       "      <td>70</td>\n",
       "      <td>10</td>\n",
       "      <td>8</td>\n",
       "      <td>8</td>\n",
       "      <td>...</td>\n",
       "      <td>0</td>\n",
       "      <td>24366.0</td>\n",
       "      <td>1902</td>\n",
       "      <td>1923</td>\n",
       "      <td>0</td>\n",
       "      <td>0.8893</td>\n",
       "      <td>2</td>\n",
       "      <td>0</td>\n",
       "      <td>0</td>\n",
       "      <td>1.0</td>\n",
       "    </tr>\n",
       "    <tr>\n",
       "      <th>2</th>\n",
       "      <td>1972</td>\n",
       "      <td>3</td>\n",
       "      <td>20</td>\n",
       "      <td>2</td>\n",
       "      <td>5</td>\n",
       "      <td>4</td>\n",
       "      <td>48</td>\n",
       "      <td>12</td>\n",
       "      <td>8</td>\n",
       "      <td>8</td>\n",
       "      <td>...</td>\n",
       "      <td>0</td>\n",
       "      <td>24366.0</td>\n",
       "      <td>1924</td>\n",
       "      <td>1944</td>\n",
       "      <td>0</td>\n",
       "      <td>0.8893</td>\n",
       "      <td>2</td>\n",
       "      <td>0</td>\n",
       "      <td>0</td>\n",
       "      <td>1.0</td>\n",
       "    </tr>\n",
       "    <tr>\n",
       "      <th>3</th>\n",
       "      <td>1972</td>\n",
       "      <td>4</td>\n",
       "      <td>24</td>\n",
       "      <td>2</td>\n",
       "      <td>5</td>\n",
       "      <td>0</td>\n",
       "      <td>27</td>\n",
       "      <td>17</td>\n",
       "      <td>16</td>\n",
       "      <td>12</td>\n",
       "      <td>...</td>\n",
       "      <td>0</td>\n",
       "      <td>30458.0</td>\n",
       "      <td>1945</td>\n",
       "      <td>1969</td>\n",
       "      <td>0</td>\n",
       "      <td>0.8893</td>\n",
       "      <td>2</td>\n",
       "      <td>0</td>\n",
       "      <td>0</td>\n",
       "      <td>1.0</td>\n",
       "    </tr>\n",
       "    <tr>\n",
       "      <th>4</th>\n",
       "      <td>1972</td>\n",
       "      <td>5</td>\n",
       "      <td>22</td>\n",
       "      <td>2</td>\n",
       "      <td>2</td>\n",
       "      <td>2</td>\n",
       "      <td>61</td>\n",
       "      <td>12</td>\n",
       "      <td>8</td>\n",
       "      <td>8</td>\n",
       "      <td>...</td>\n",
       "      <td>0</td>\n",
       "      <td>50763.0</td>\n",
       "      <td>1911</td>\n",
       "      <td>1933</td>\n",
       "      <td>0</td>\n",
       "      <td>0.8893</td>\n",
       "      <td>2</td>\n",
       "      <td>0</td>\n",
       "      <td>0</td>\n",
       "      <td>1.0</td>\n",
       "    </tr>\n",
       "  </tbody>\n",
       "</table>\n",
       "<p>5 rows × 101 columns</p>\n",
       "</div>"
      ],
      "text/plain": [
       "   year  id_  agewed  divorce  sibs  childs  age  educ  paeduc  maeduc  \\\n",
       "0  1972    1       0        0     3       0   23    16      10      97   \n",
       "1  1972    2      21        2     4       5   70    10       8       8   \n",
       "2  1972    3      20        2     5       4   48    12       8       8   \n",
       "3  1972    4      24        2     5       0   27    17      16      12   \n",
       "4  1972    5      22        2     2       2   61    12       8       8   \n",
       "\n",
       "    ...    memchurh  realinc  cohort  marcohrt  ballot  wtssall  adults  \\\n",
       "0   ...           0  18951.0    1949         0       0   0.4446       1   \n",
       "1   ...           0  24366.0    1902      1923       0   0.8893       2   \n",
       "2   ...           0  24366.0    1924      1944       0   0.8893       2   \n",
       "3   ...           0  30458.0    1945      1969       0   0.8893       2   \n",
       "4   ...           0  50763.0    1911      1933       0   0.8893       2   \n",
       "\n",
       "   compuse  databank  wtssnr  \n",
       "0        0         0     1.0  \n",
       "1        0         0     1.0  \n",
       "2        0         0     1.0  \n",
       "3        0         0     1.0  \n",
       "4        0         0     1.0  \n",
       "\n",
       "[5 rows x 101 columns]"
      ]
     },
     "execution_count": 4,
     "metadata": {},
     "output_type": "execute_result"
    }
   ],
   "source": [
    "gss = read_gss('gss_eda')\n",
    "print(gss.shape)\n",
    "gss.head()"
   ]
  },
  {
   "cell_type": "markdown",
   "metadata": {},
   "source": [
    "Most variables use special codes to indicate missing data.  We have to be careful not to use these codes as numerical data; one way to manage that is to replace them with `NaN`, which Pandas recognizes as a missing value."
   ]
  },
  {
   "cell_type": "code",
   "execution_count": 5,
   "metadata": {
    "collapsed": true
   },
   "outputs": [],
   "source": [
    "def replace_invalid(df):\n",
    "    df.realinc.replace([0], np.nan, inplace=True)                  \n",
    "    df.educ.replace([98,99], np.nan, inplace=True)\n",
    "    # 89 means 89 or older\n",
    "    df.age.replace([98, 99], np.nan, inplace=True) \n",
    "    df.cohort.replace([9999], np.nan, inplace=True)\n",
    "    df.adults.replace([9], np.nan, inplace=True)\n",
    "\n",
    "replace_invalid(gss)"
   ]
  },
  {
   "cell_type": "markdown",
   "metadata": {},
   "source": [
    "Here are summary statistics for the variables I have validated and cleaned."
   ]
  },
  {
   "cell_type": "code",
   "execution_count": 6,
   "metadata": {},
   "outputs": [
    {
     "data": {
      "text/plain": [
       "count    62466.000000\n",
       "mean      1994.072359\n",
       "std         12.937941\n",
       "min       1972.000000\n",
       "25%       1984.000000\n",
       "50%       1994.000000\n",
       "75%       2006.000000\n",
       "max       2016.000000\n",
       "Name: year, dtype: float64"
      ]
     },
     "execution_count": 6,
     "metadata": {},
     "output_type": "execute_result"
    }
   ],
   "source": [
    "gss['year'].describe()"
   ]
  },
  {
   "cell_type": "code",
   "execution_count": 7,
   "metadata": {},
   "outputs": [
    {
     "data": {
      "text/plain": [
       "count    62466.000000\n",
       "mean         1.558768\n",
       "std          0.496538\n",
       "min          1.000000\n",
       "25%          1.000000\n",
       "50%          2.000000\n",
       "75%          2.000000\n",
       "max          2.000000\n",
       "Name: sex, dtype: float64"
      ]
     },
     "execution_count": 7,
     "metadata": {},
     "output_type": "execute_result"
    }
   ],
   "source": [
    "gss['sex'].describe()"
   ]
  },
  {
   "cell_type": "code",
   "execution_count": 8,
   "metadata": {},
   "outputs": [
    {
     "data": {
      "text/plain": [
       "count    62245.000000\n",
       "mean        45.991341\n",
       "std         17.505563\n",
       "min         18.000000\n",
       "25%         31.000000\n",
       "50%         44.000000\n",
       "75%         59.000000\n",
       "max         89.000000\n",
       "Name: age, dtype: float64"
      ]
     },
     "execution_count": 8,
     "metadata": {},
     "output_type": "execute_result"
    }
   ],
   "source": [
    "gss['age'].describe()"
   ]
  },
  {
   "cell_type": "code",
   "execution_count": 9,
   "metadata": {},
   "outputs": [
    {
     "data": {
      "text/plain": [
       "count    62245.000000\n",
       "mean      1948.087075\n",
       "std         20.998696\n",
       "min       1883.000000\n",
       "25%       1934.000000\n",
       "50%       1950.000000\n",
       "75%       1963.000000\n",
       "max       1998.000000\n",
       "Name: cohort, dtype: float64"
      ]
     },
     "execution_count": 9,
     "metadata": {},
     "output_type": "execute_result"
    }
   ],
   "source": [
    "gss['cohort'].describe()"
   ]
  },
  {
   "cell_type": "code",
   "execution_count": 10,
   "metadata": {},
   "outputs": [
    {
     "data": {
      "text/plain": [
       "count    62466.000000\n",
       "mean         1.247335\n",
       "std          0.540917\n",
       "min          1.000000\n",
       "25%          1.000000\n",
       "50%          1.000000\n",
       "75%          1.000000\n",
       "max          3.000000\n",
       "Name: race, dtype: float64"
      ]
     },
     "execution_count": 10,
     "metadata": {},
     "output_type": "execute_result"
    }
   ],
   "source": [
    "gss['race'].describe()"
   ]
  },
  {
   "cell_type": "code",
   "execution_count": 11,
   "metadata": {},
   "outputs": [
    {
     "data": {
      "text/plain": [
       "count    62292.000000\n",
       "mean        12.837234\n",
       "std          3.179130\n",
       "min          0.000000\n",
       "25%         12.000000\n",
       "50%         12.000000\n",
       "75%         15.000000\n",
       "max         20.000000\n",
       "Name: educ, dtype: float64"
      ]
     },
     "execution_count": 11,
     "metadata": {},
     "output_type": "execute_result"
    }
   ],
   "source": [
    "gss['educ'].describe()"
   ]
  },
  {
   "cell_type": "code",
   "execution_count": 12,
   "metadata": {},
   "outputs": [
    {
     "data": {
      "text/plain": [
       "count     56141.000000\n",
       "mean      31636.199666\n",
       "std       29402.370825\n",
       "min         234.000000\n",
       "25%       12080.625000\n",
       "50%       24097.500000\n",
       "75%       39022.500000\n",
       "max      162607.000000\n",
       "Name: realinc, dtype: float64"
      ]
     },
     "execution_count": 12,
     "metadata": {},
     "output_type": "execute_result"
    }
   ],
   "source": [
    "gss['realinc'].describe()"
   ]
  },
  {
   "cell_type": "code",
   "execution_count": 13,
   "metadata": {},
   "outputs": [
    {
     "data": {
      "text/plain": [
       "count    62466.000000\n",
       "mean         1.000016\n",
       "std          0.461927\n",
       "min          0.391825\n",
       "25%          0.550100\n",
       "50%          0.988100\n",
       "75%          1.098500\n",
       "max          8.739876\n",
       "Name: wtssall, dtype: float64"
      ]
     },
     "execution_count": 13,
     "metadata": {},
     "output_type": "execute_result"
    }
   ],
   "source": [
    "gss['wtssall'].describe()"
   ]
  },
  {
   "cell_type": "markdown",
   "metadata": {},
   "source": [
    "**Exercise** \n",
    "\n",
    "1. Look through the column headings to find a few variables that look interesting.  Look them up on the GSS data explorer.  \n",
    "\n",
    "2. Use `value_counts` to see what values appear in the dataset, and compare the results with the counts in the code book.  \n",
    "\n",
    "3. Identify special values that indicate missing data and replace them with `NaN`.\n",
    "\n",
    "4. Use `describe` to compute summary statistics.  What do you notice?"
   ]
  },
  {
   "cell_type": "code",
   "execution_count": 14,
   "metadata": {},
   "outputs": [
    {
     "data": {
      "text/plain": [
       "0    23073\n",
       "1    24169\n",
       "2     1770\n",
       "3     3895\n",
       "4     1544\n",
       "7     3955\n",
       "8     3374\n",
       "9      686\n",
       "Name: madeg, dtype: int64"
      ]
     },
     "execution_count": 14,
     "metadata": {},
     "output_type": "execute_result"
    }
   ],
   "source": [
    "gss['madeg'].value_counts().sort_index()"
   ]
  },
  {
   "cell_type": "code",
   "execution_count": 15,
   "metadata": {},
   "outputs": [
    {
     "data": {
      "text/plain": [
       "count    62466.000000\n",
       "mean         1.703663\n",
       "std          2.450174\n",
       "min          0.000000\n",
       "25%          0.000000\n",
       "50%          1.000000\n",
       "75%          1.000000\n",
       "max          9.000000\n",
       "Name: madeg, dtype: float64"
      ]
     },
     "execution_count": 15,
     "metadata": {},
     "output_type": "execute_result"
    }
   ],
   "source": [
    "gss['madeg'].describe()"
   ]
  },
  {
   "cell_type": "code",
   "execution_count": 16,
   "metadata": {},
   "outputs": [
    {
     "data": {
      "text/plain": [
       "0    22479\n",
       "1    16733\n",
       "2      895\n",
       "3     4134\n",
       "4     2744\n",
       "7    11094\n",
       "8     3794\n",
       "9      593\n",
       "Name: padeg, dtype: int64"
      ]
     },
     "execution_count": 16,
     "metadata": {},
     "output_type": "execute_result"
    }
   ],
   "source": [
    "gss['padeg'].value_counts().sort_index()"
   ]
  },
  {
   "cell_type": "code",
   "execution_count": 17,
   "metadata": {},
   "outputs": [
    {
     "data": {
      "text/plain": [
       "count    62466.00000\n",
       "mean         2.48532\n",
       "std          2.96741\n",
       "min          0.00000\n",
       "25%          0.00000\n",
       "50%          1.00000\n",
       "75%          4.00000\n",
       "max          9.00000\n",
       "Name: padeg, dtype: float64"
      ]
     },
     "execution_count": 17,
     "metadata": {},
     "output_type": "execute_result"
    }
   ],
   "source": [
    "gss['padeg'].describe()"
   ]
  },
  {
   "cell_type": "code",
   "execution_count": 18,
   "metadata": {},
   "outputs": [
    {
     "data": {
      "text/plain": [
       "0     9999\n",
       "1    12942\n",
       "2     7485\n",
       "3     9474\n",
       "4     5462\n",
       "5     9661\n",
       "6     6063\n",
       "7      995\n",
       "8       11\n",
       "9      374\n",
       "Name: partyid, dtype: int64"
      ]
     },
     "execution_count": 18,
     "metadata": {},
     "output_type": "execute_result"
    }
   ],
   "source": [
    "gss['partyid'].value_counts().sort_index()"
   ]
  },
  {
   "cell_type": "code",
   "execution_count": 19,
   "metadata": {},
   "outputs": [
    {
     "data": {
      "text/plain": [
       "count    62466.000000\n",
       "mean         2.774053\n",
       "std          2.095865\n",
       "min          0.000000\n",
       "25%          1.000000\n",
       "50%          3.000000\n",
       "75%          5.000000\n",
       "max          9.000000\n",
       "Name: partyid, dtype: float64"
      ]
     },
     "execution_count": 19,
     "metadata": {},
     "output_type": "execute_result"
    }
   ],
   "source": [
    "gss['partyid'].describe()"
   ]
  },
  {
   "cell_type": "code",
   "execution_count": 16,
   "metadata": {},
   "outputs": [
    {
     "data": {
      "text/plain": [
       "0     6777\n",
       "1     1560\n",
       "2     6236\n",
       "3     6754\n",
       "4    20515\n",
       "5     8407\n",
       "6     7876\n",
       "7     1733\n",
       "8     2247\n",
       "9      361\n",
       "Name: polviews, dtype: int64"
      ]
     },
     "execution_count": 16,
     "metadata": {},
     "output_type": "execute_result"
    }
   ],
   "source": [
    "gss['polviews'].value_counts().sort_index()"
   ]
  },
  {
   "cell_type": "code",
   "execution_count": 20,
   "metadata": {},
   "outputs": [
    {
     "data": {
      "text/plain": [
       "count    62466.000000\n",
       "mean         3.826097\n",
       "std          2.011596\n",
       "min          0.000000\n",
       "25%          3.000000\n",
       "50%          4.000000\n",
       "75%          5.000000\n",
       "max          9.000000\n",
       "Name: polviews, dtype: float64"
      ]
     },
     "execution_count": 20,
     "metadata": {},
     "output_type": "execute_result"
    }
   ],
   "source": [
    "gss['polviews'].describe()"
   ]
  },
  {
   "cell_type": "markdown",
   "metadata": {},
   "source": [
    "## Visualize distributions\n",
    "\n",
    "Let's visualize the distributions of the variables we've selected.\n",
    "\n",
    "Here's a Hist of the values in `educ`:"
   ]
  },
  {
   "cell_type": "code",
   "execution_count": 23,
   "metadata": {},
   "outputs": [
    {
     "data": {
      "image/png": "[encoded data removed]",
      "text/plain": [
       "<matplotlib.figure.Figure at 0x7ffa3d995748>"
      ]
     },
     "metadata": {},
     "output_type": "display_data"
    }
   ],
   "source": [
    "from thinkstats2 import Hist, Pmf, Cdf\n",
    "import thinkplot\n",
    "\n",
    "hist_educ = Hist(gss.educ)\n",
    "thinkplot.hist(hist_educ)\n",
    "decorate(xlabel='Years of education', \n",
    "         ylabel='Count')"
   ]
  },
  {
   "cell_type": "markdown",
   "metadata": {},
   "source": [
    "`Hist` as defined in `thinkstats2` is different from `hist` as defined in Matplotlib.  The difference is that `Hist` keeps all unique values and does not put them in bins.  Also, `hist` does not handle `NaN`.\n",
    "\n",
    "One of the hazards of using `hist` is that the shape of the result depends on the bin size.\n",
    "\n",
    "**Exercise:** \n",
    "\n",
    "1. Run the following cell and compare the result to the `Hist` above.\n",
    "\n",
    "2. Add the keyword argument `bins=11` to `plt.hist` and see how it changes the results.\n",
    "\n",
    "3. Experiment with other numbers of bins."
   ]
  },
  {
   "cell_type": "code",
   "execution_count": 24,
   "metadata": {},
   "outputs": [
    {
     "data": {
      "image/png": "[encoded data removed]",
      "text/plain": [
       "<matplotlib.figure.Figure at 0x7ffa3d859f28>"
      ]
     },
     "metadata": {},
     "output_type": "display_data"
    }
   ],
   "source": [
    "import matplotlib.pyplot as plt\n",
    "\n",
    "plt.hist(gss.educ.dropna(), bins=30)\n",
    "decorate(xlabel='Years of education', \n",
    "         ylabel='Count')"
   ]
  },
  {
   "cell_type": "markdown",
   "metadata": {},
   "source": [
    "However, a drawback of `Hist` and `Pmf` is that they basically don't work when the number of unique values is large, as in this example:"
   ]
  },
  {
   "cell_type": "code",
   "execution_count": 25,
   "metadata": {},
   "outputs": [
    {
     "data": {
      "image/png": "[encoded data removed]",
      "text/plain": [
       "<matplotlib.figure.Figure at 0x7ffa3e26fe10>"
      ]
     },
     "metadata": {},
     "output_type": "display_data"
    }
   ],
   "source": [
    "hist_realinc = Hist(gss.realinc)\n",
    "thinkplot.hist(hist_realinc)\n",
    "decorate(xlabel='Real income (1986 USD)', \n",
    "         ylabel='Count')"
   ]
  },
  {
   "cell_type": "markdown",
   "metadata": {},
   "source": [
    "**Exercise:**\n",
    "    \n",
    "1. Make and plot a `Hist` of `age`.\n",
    "\n",
    "2. Make and plot a `Pmf` of `educ`.\n",
    "\n",
    "3. What fraction of people have 12, 14, and 16 years of education?"
   ]
  },
  {
   "cell_type": "code",
   "execution_count": 27,
   "metadata": {},
   "outputs": [
    {
     "data": {
      "image/png": "[encoded data removed]",
      "text/plain": [
       "<matplotlib.figure.Figure at 0x7ffa3d161588>"
      ]
     },
     "metadata": {},
     "output_type": "display_data"
    }
   ],
   "source": [
    "# Solution goes here\n",
    "hist_age = Hist(gss['educ'])\n",
    "thinkplot.hist(hist_age)\n",
    "decorate(xlabel = 'Age',\n",
    "        ylabel = 'Count')"
   ]
  },
  {
   "cell_type": "code",
   "execution_count": 28,
   "metadata": {},
   "outputs": [
    {
     "data": {
      "image/png": "[encoded data removed]",
      "text/plain": [
       "<matplotlib.figure.Figure at 0x7ffa3cddb5f8>"
      ]
     },
     "metadata": {},
     "output_type": "display_data"
    }
   ],
   "source": [
    "# Solution goes here\n",
    "pmf_educ = Pmf(gss['educ'])\n",
    "thinkplot.pmf(pmf_educ)\n",
    "decorate(xlabel = 'Years of Education',\n",
    "        ylabel = 'PMF')"
   ]
  },
  {
   "cell_type": "code",
   "execution_count": 29,
   "metadata": {},
   "outputs": [
    {
     "data": {
      "text/plain": [
       "0.30511141077505938"
      ]
     },
     "execution_count": 29,
     "metadata": {},
     "output_type": "execute_result"
    }
   ],
   "source": [
    "# Solution goes here\n",
    "pmf_educ[12]"
   ]
  },
  {
   "cell_type": "code",
   "execution_count": 30,
   "metadata": {},
   "outputs": [
    {
     "data": {
      "text/plain": [
       "0.10991780645989853"
      ]
     },
     "execution_count": 30,
     "metadata": {},
     "output_type": "execute_result"
    }
   ],
   "source": [
    "# Solution goes here\n",
    "pmf_educ[14]"
   ]
  },
  {
   "cell_type": "code",
   "execution_count": 31,
   "metadata": {},
   "outputs": [
    {
     "data": {
      "text/plain": [
       "0.12722339947344763"
      ]
     },
     "execution_count": 31,
     "metadata": {},
     "output_type": "execute_result"
    }
   ],
   "source": [
    "# Solution goes here\n",
    "pmf_educ[16]"
   ]
  },
  {
   "cell_type": "markdown",
   "metadata": {},
   "source": [
    "**Exercise:**\n",
    "    \n",
    "1. Make and plot a `Cdf` of `educ`.\n",
    "\n",
    "2. What fraction of people have more than 12 years of education?"
   ]
  },
  {
   "cell_type": "code",
   "execution_count": 34,
   "metadata": {},
   "outputs": [
    {
     "data": {
      "image/png": "[encoded data removed]",
      "text/plain": [
       "<matplotlib.figure.Figure at 0x7ffa3cca6828>"
      ]
     },
     "metadata": {},
     "output_type": "display_data"
    }
   ],
   "source": [
    "# Solution goes here\n",
    "cdf_educ = Cdf(gss['educ'])\n",
    "thinkplot.cdf(cdf_educ)\n",
    "decorate(xlabel = 'Years of Education',\n",
    "        ylabel = 'CDF')"
   ]
  },
  {
   "cell_type": "code",
   "execution_count": 35,
   "metadata": {},
   "outputs": [
    {
     "data": {
      "text/plain": [
       "0.53270082835677135"
      ]
     },
     "execution_count": 35,
     "metadata": {},
     "output_type": "execute_result"
    }
   ],
   "source": [
    "# Solution goes here\n",
    "cdf_educ.Prob(12)"
   ]
  },
  {
   "cell_type": "code",
   "execution_count": 36,
   "metadata": {
    "collapsed": true
   },
   "outputs": [],
   "source": [
    "# Solution goes here"
   ]
  },
  {
   "cell_type": "markdown",
   "metadata": {},
   "source": [
    "**Exercise:**\n",
    "    \n",
    "1. Make and plot a `Cdf` of `age`.\n",
    "\n",
    "2. What is the median age?  What is the inter-quartile range (IQR)?"
   ]
  },
  {
   "cell_type": "code",
   "execution_count": 38,
   "metadata": {},
   "outputs": [
    {
     "data": {
      "image/png": "[encoded data removed]",
      "text/plain": [
       "<matplotlib.figure.Figure at 0x7ffa3cf4c978>"
      ]
     },
     "metadata": {},
     "output_type": "display_data"
    }
   ],
   "source": [
    "# Solution goes here\n",
    "cdf_age = Cdf(gss['age'])\n",
    "thinkplot.cdf(cdf_age)\n",
    "decorate(xlabel = 'Age',\n",
    "        ylabel = 'Count')"
   ]
  },
  {
   "cell_type": "code",
   "execution_count": 39,
   "metadata": {},
   "outputs": [
    {
     "data": {
      "text/plain": [
       "44.0"
      ]
     },
     "execution_count": 39,
     "metadata": {},
     "output_type": "execute_result"
    }
   ],
   "source": [
    "# Solution goes here\n",
    "cdf_age.Value(.5)"
   ]
  },
  {
   "cell_type": "code",
   "execution_count": 40,
   "metadata": {},
   "outputs": [
    {
     "data": {
      "text/plain": [
       "28.0"
      ]
     },
     "execution_count": 40,
     "metadata": {},
     "output_type": "execute_result"
    }
   ],
   "source": [
    "# Solution goes here\n",
    "cdf_age.Value(.75)-cdf_age.Value(.25)"
   ]
  },
  {
   "cell_type": "markdown",
   "metadata": {},
   "source": [
    "**Exercise:**\n",
    "\n",
    "Find another numerical variable, plot a histogram, PMF, and CDF, and compute any statistics of interest."
   ]
  },
  {
   "cell_type": "code",
   "execution_count": 43,
   "metadata": {},
   "outputs": [
    {
     "data": {
      "image/png": "[encoded data removed]",
      "text/plain": [
       "<matplotlib.figure.Figure at 0x7ffa3dae05f8>"
      ]
     },
     "metadata": {},
     "output_type": "display_data"
    }
   ],
   "source": [
    "# Solution goes here\n",
    "hist_childs = Hist(gss['childs'])\n",
    "thinkplot.hist(hist_childs)\n",
    "decorate(xlabel = 'Number of Children',\n",
    "        ylabel = 'Count')"
   ]
  },
  {
   "cell_type": "code",
   "execution_count": 44,
   "metadata": {},
   "outputs": [
    {
     "data": {
      "image/png": "[encoded data removed]",
      "text/plain": [
       "<matplotlib.figure.Figure at 0x7ffa3ccd5198>"
      ]
     },
     "metadata": {},
     "output_type": "display_data"
    }
   ],
   "source": [
    "# Solution goes here\n",
    "pmf_childs = Pmf(gss['childs'])\n",
    "thinkplot.pmf(pmf_childs)\n",
    "decorate(xlabel = 'Number of Children',\n",
    "        ylabel = 'PMF')"
   ]
  },
  {
   "cell_type": "code",
   "execution_count": 45,
   "metadata": {},
   "outputs": [
    {
     "data": {
      "image/png": "[encoded data removed]",
      "text/plain": [
       "<matplotlib.figure.Figure at 0x7ffa3cb2dd30>"
      ]
     },
     "metadata": {},
     "output_type": "display_data"
    }
   ],
   "source": [
    "# Solution goes here\n",
    "cdf_childs = Cdf(gss['childs'])\n",
    "thinkplot.cdf(cdf_childs)\n",
    "decorate(xlabel = 'Number of Children',\n",
    "        ylabel = 'CDF')"
   ]
  },
  {
   "cell_type": "code",
   "execution_count": 46,
   "metadata": {},
   "outputs": [
    {
     "data": {
      "text/plain": [
       "count    62466.000000\n",
       "mean         1.965117\n",
       "std          1.820545\n",
       "min          0.000000\n",
       "25%          0.000000\n",
       "50%          2.000000\n",
       "75%          3.000000\n",
       "max          9.000000\n",
       "Name: childs, dtype: float64"
      ]
     },
     "execution_count": 46,
     "metadata": {},
     "output_type": "execute_result"
    }
   ],
   "source": [
    "# Solution goes here\n",
    "gss['childs'].describe()"
   ]
  },
  {
   "cell_type": "markdown",
   "metadata": {},
   "source": [
    "**Exercise:**\n",
    "\n",
    "1. Compute the CDF of `realinc` for male and female respondents, and plot both CDFs on the same axes.\n",
    "\n",
    "2. What is the difference in median income between the two groups?"
   ]
  },
  {
   "cell_type": "code",
   "execution_count": 51,
   "metadata": {},
   "outputs": [
    {
     "data": {
      "image/png": "[encoded data removed]",
      "text/plain": [
       "<matplotlib.figure.Figure at 0x7ffa3d941f60>"
      ]
     },
     "metadata": {},
     "output_type": "display_data"
    }
   ],
   "source": [
    "# Solution goes here\n",
    "women = gss['sex'] == 2\n",
    "men = gss['sex'] == 1\n",
    "women_inc_cdf = Cdf(gss.realinc[women], label = 'female')\n",
    "men_inc_cdf = Cdf(gss.realinc[men], label = 'male')\n",
    "thinkplot.PrePlot(2)\n",
    "thinkplot.cdfs([female_inc_cdf, male_inc_cdf])\n",
    "decorate(xlabel = 'Real Income',\n",
    "        ylabel = 'CDF')"
   ]
  },
  {
   "cell_type": "code",
   "execution_count": 52,
   "metadata": {},
   "outputs": [
    {
     "data": {
      "text/plain": [
       "-5185.0"
      ]
     },
     "execution_count": 52,
     "metadata": {},
     "output_type": "execute_result"
    }
   ],
   "source": [
    "# Solution goes here\n",
    "female_inc_cdf.Value(.5)-male_inc_cdf.Value(.5)"
   ]
  },
  {
   "cell_type": "code",
   "execution_count": 53,
   "metadata": {
    "collapsed": true
   },
   "outputs": [],
   "source": [
    "# Solution goes here"
   ]
  },
  {
   "cell_type": "code",
   "execution_count": 54,
   "metadata": {
    "collapsed": true
   },
   "outputs": [],
   "source": [
    "# Solution goes here"
   ]
  },
  {
   "cell_type": "markdown",
   "metadata": {},
   "source": [
    "**Exercise:**\n",
    "\n",
    "Use a variable to break the dataset into groups and plot multiple CDFs to compare distribution of something within groups.\n",
    "\n",
    "Note: Try to find something interesting, but be cautious about overinterpreting the results.  Between any two groups, there are often many differences, with many possible causes."
   ]
  },
  {
   "cell_type": "code",
   "execution_count": 58,
   "metadata": {},
   "outputs": [
    {
     "data": {
      "image/png": "[encoded data removed]",
      "text/plain": [
       "<matplotlib.figure.Figure at 0x7ffa69799470>"
      ]
     },
     "metadata": {},
     "output_type": "display_data"
    }
   ],
   "source": [
    "# Solution goes here\n",
    "female = gss[gss['sex'] == 2]\n",
    "\n",
    "some_college = female[female['educ']>=12]\n",
    "some_college_cdf_childs = Cdf(some_college['childs'], label = 'female college')\n",
    "\n",
    "no_college = female[female['educ']<=12]\n",
    "no_college_cdf_childs = Cdf(no_college['childs'], label = 'female no college')\n",
    "\n",
    "thinkplot.PrePlot(4)\n",
    "thinkplot.cdfs([some_college_cdf_childs,\n",
    "                no_college_cdf_childs\n",
    "               ])\n",
    "decorate(xlabel = 'Real Income Group',\n",
    "        ylabel = 'CDF')"
   ]
  },
  {
   "cell_type": "code",
   "execution_count": 59,
   "metadata": {
    "collapsed": true
   },
   "outputs": [],
   "source": [
    "# Solution goes here"
   ]
  },
  {
   "cell_type": "code",
   "execution_count": 60,
   "metadata": {
    "collapsed": true
   },
   "outputs": [],
   "source": [
    "# Solution goes here"
   ]
  },
  {
   "cell_type": "code",
   "execution_count": 61,
   "metadata": {
    "collapsed": true
   },
   "outputs": [],
   "source": [
    "# Solution goes here"
   ]
  },
  {
   "cell_type": "markdown",
   "metadata": {},
   "source": [
    "## Save the cleaned data\n",
    "\n",
    "Now that we have the data in good shape, we'll save it in a binary format (HDF5), which will make it faster to load later.\n",
    "\n",
    "Also, we have to do some resampling to make the results representative.  We'll talk about this in class."
   ]
  },
  {
   "cell_type": "code",
   "execution_count": 62,
   "metadata": {
    "collapsed": true
   },
   "outputs": [],
   "source": [
    "np.random.seed(19)\n",
    "sample = utils.resample_by_year(gss, 'wtssall')"
   ]
  },
  {
   "cell_type": "markdown",
   "metadata": {},
   "source": [
    "Save the file."
   ]
  },
  {
   "cell_type": "code",
   "execution_count": 63,
   "metadata": {},
   "outputs": [],
   "source": [
    "!rm gss.hdf5\n",
    "sample.to_hdf('gss.hdf5', 'gss')"
   ]
  },
  {
   "cell_type": "markdown",
   "metadata": {},
   "source": [
    "Load it and see how fast it is!"
   ]
  },
  {
   "cell_type": "code",
   "execution_count": 64,
   "metadata": {},
   "outputs": [
    {
     "name": "stdout",
     "output_type": "stream",
     "text": [
      "CPU times: user 20.7 ms, sys: 26.2 ms, total: 46.9 ms\n",
      "Wall time: 51 ms\n"
     ]
    },
    {
     "data": {
      "text/plain": [
       "(62466, 101)"
      ]
     },
     "execution_count": 64,
     "metadata": {},
     "output_type": "execute_result"
    }
   ],
   "source": [
    "%time gss = pd.read_hdf('gss.hdf5', 'gss')\n",
    "gss.shape"
   ]
  },
  {
   "cell_type": "markdown",
   "metadata": {},
   "source": []
  },
  {
   "cell_type": "code",
   "execution_count": null,
   "metadata": {
    "collapsed": true
   },
   "outputs": [],
   "source": []
  },
  {
   "cell_type": "code",
   "execution_count": null,
   "metadata": {
    "collapsed": true
   },
   "outputs": [],
   "source": []
  },
  {
   "cell_type": "code",
   "execution_count": null,
   "metadata": {
    "collapsed": true
   },
   "outputs": [],
   "source": []
  }
 ],
 "metadata": {
  "kernelspec": {
   "display_name": "Python 3",
   "language": "python",
   "name": "python3"
  },
  "language_info": {
   "codemirror_mode": {
    "name": "ipython",
    "version": 3
   },
   "file_extension": ".py",
   "mimetype": "text/x-python",
   "name": "python",
   "nbconvert_exporter": "python",
   "pygments_lexer": "ipython3",
   "version": "3.6.0"
  }
 },
 "nbformat": 4,
 "nbformat_minor": 1
}

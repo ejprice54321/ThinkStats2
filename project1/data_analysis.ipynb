{
 "cells": [
  {
   "cell_type": "markdown",
   "metadata": {},
   "source": [
    "# Exploring the Opioid Epidemic\n",
    "### Emma Price\n",
    "\n",
    "In this file, I explore the effect of opioid use on different demographic data from the 2017 National Survey of Drug Use and Health (NSDUH) that I loaded, cleaned, and selected certain columns from in the [data_cleaning.ipynd](http://localhost:8888/notebooks/data_cleaning.ipynb) file. The aims of this notebook are to explore the data from NSDUH related to opioids (identified here as heroin, pain relievers, and oxycontin)."
   ]
  },
  {
   "cell_type": "code",
   "execution_count": 37,
   "metadata": {},
   "outputs": [],
   "source": [
    "import pandas as pd\n",
    "import numpy as np\n",
    "import thinkstats2\n",
    "from thinkstats2 import Hist, Pmf, Cdf, Jitter, RenderNormalCdf, RenderParetoCdf\n",
    "import thinkplot"
   ]
  },
  {
   "cell_type": "code",
   "execution_count": 38,
   "metadata": {},
   "outputs": [],
   "source": [
    "# This function is from the ThinkStats2e, all credit to \n",
    "# Allen Downey.\n",
    "\n",
    "def CohenEffectSize(group1, group2):\n",
    "    \"\"\"Computes Cohen's effect size for two groups.\n",
    "    \n",
    "    group1: Series or DataFrame\n",
    "    group2: Series or DataFrame\n",
    "    \n",
    "    returns: float if the arguments are Series;\n",
    "             Series if the arguments are DataFrames\n",
    "    \"\"\"\n",
    "    diff = group1.mean() - group2.mean()\n",
    "\n",
    "    var1 = group1.var()\n",
    "    var2 = group2.var()\n",
    "    n1, n2 = len(group1), len(group2)\n",
    "\n",
    "    pooled_var = (n1 * var1 + n2 * var2) / (n1 + n2)\n",
    "    d = diff / np.sqrt(pooled_var)\n",
    "    return d\n"
   ]
  },
  {
   "cell_type": "code",
   "execution_count": 7,
   "metadata": {},
   "outputs": [],
   "source": [
    "# Load the modified NSDUH data\n",
    "nsduh = pd.read_stata('nsduh.dta')"
   ]
  },
  {
   "cell_type": "markdown",
   "metadata": {},
   "source": [
    "#### Just a reminder of what the data looks like and what each column is made of"
   ]
  },
  {
   "cell_type": "code",
   "execution_count": 8,
   "metadata": {},
   "outputs": [
    {
     "data": {
      "text/html": [
       "<div>\n",
       "<style scoped>\n",
       "    .dataframe tbody tr th:only-of-type {\n",
       "        vertical-align: middle;\n",
       "    }\n",
       "\n",
       "    .dataframe tbody tr th {\n",
       "        vertical-align: top;\n",
       "    }\n",
       "\n",
       "    .dataframe thead th {\n",
       "        text-align: right;\n",
       "    }\n",
       "</style>\n",
       "<table border=\"1\" class=\"dataframe\">\n",
       "  <thead>\n",
       "    <tr style=\"text-align: right;\">\n",
       "      <th></th>\n",
       "      <th>index</th>\n",
       "      <th>NEWRACE2</th>\n",
       "      <th>pnrnmflag</th>\n",
       "      <th>irsex</th>\n",
       "      <th>sexatract</th>\n",
       "      <th>AGE2</th>\n",
       "      <th>IREDUHIGHST2</th>\n",
       "      <th>irpnrnmage</th>\n",
       "      <th>herage</th>\n",
       "      <th>oxcnnmage</th>\n",
       "      <th>herflag</th>\n",
       "      <th>udpyhrpnr</th>\n",
       "      <th>pnrnmyr</th>\n",
       "      <th>udpypnr</th>\n",
       "      <th>abodher</th>\n",
       "      <th>SRCPNRNM2</th>\n",
       "      <th>pnranyyr</th>\n",
       "      <th>oxcnanyyr</th>\n",
       "      <th>iroxcnnmyr</th>\n",
       "    </tr>\n",
       "  </thead>\n",
       "  <tbody>\n",
       "    <tr>\n",
       "      <th>0</th>\n",
       "      <td>0</td>\n",
       "      <td>White</td>\n",
       "      <td>0</td>\n",
       "      <td>1</td>\n",
       "      <td>1.0</td>\n",
       "      <td>65+</td>\n",
       "      <td>15.0</td>\n",
       "      <td>NaN</td>\n",
       "      <td>NaN</td>\n",
       "      <td>NaN</td>\n",
       "      <td>0</td>\n",
       "      <td>Neither</td>\n",
       "      <td>0</td>\n",
       "      <td>0</td>\n",
       "      <td>0</td>\n",
       "      <td></td>\n",
       "      <td>0</td>\n",
       "      <td>0</td>\n",
       "      <td>0</td>\n",
       "    </tr>\n",
       "    <tr>\n",
       "      <th>1</th>\n",
       "      <td>1</td>\n",
       "      <td>Afr Am</td>\n",
       "      <td>0</td>\n",
       "      <td>1</td>\n",
       "      <td>1.0</td>\n",
       "      <td>35-49</td>\n",
       "      <td>15.0</td>\n",
       "      <td>NaN</td>\n",
       "      <td>NaN</td>\n",
       "      <td>NaN</td>\n",
       "      <td>0</td>\n",
       "      <td>Neither</td>\n",
       "      <td>0</td>\n",
       "      <td>0</td>\n",
       "      <td>0</td>\n",
       "      <td></td>\n",
       "      <td>0</td>\n",
       "      <td>0</td>\n",
       "      <td>0</td>\n",
       "    </tr>\n",
       "    <tr>\n",
       "      <th>2</th>\n",
       "      <td>2</td>\n",
       "      <td>Asian</td>\n",
       "      <td>0</td>\n",
       "      <td>1</td>\n",
       "      <td>1.0</td>\n",
       "      <td>35-49</td>\n",
       "      <td>13.0</td>\n",
       "      <td>NaN</td>\n",
       "      <td>NaN</td>\n",
       "      <td>NaN</td>\n",
       "      <td>0</td>\n",
       "      <td>Neither</td>\n",
       "      <td>0</td>\n",
       "      <td>0</td>\n",
       "      <td>0</td>\n",
       "      <td></td>\n",
       "      <td>0</td>\n",
       "      <td>0</td>\n",
       "      <td>0</td>\n",
       "    </tr>\n",
       "    <tr>\n",
       "      <th>3</th>\n",
       "      <td>3</td>\n",
       "      <td>Hisp</td>\n",
       "      <td>0</td>\n",
       "      <td>1</td>\n",
       "      <td>1.0</td>\n",
       "      <td>35-49</td>\n",
       "      <td>15.0</td>\n",
       "      <td>NaN</td>\n",
       "      <td>NaN</td>\n",
       "      <td>NaN</td>\n",
       "      <td>0</td>\n",
       "      <td>Neither</td>\n",
       "      <td>0</td>\n",
       "      <td>0</td>\n",
       "      <td>0</td>\n",
       "      <td></td>\n",
       "      <td>0</td>\n",
       "      <td>0</td>\n",
       "      <td>0</td>\n",
       "    </tr>\n",
       "    <tr>\n",
       "      <th>4</th>\n",
       "      <td>4</td>\n",
       "      <td>White</td>\n",
       "      <td>0</td>\n",
       "      <td>2</td>\n",
       "      <td>1.0</td>\n",
       "      <td>65+</td>\n",
       "      <td>12.0</td>\n",
       "      <td>NaN</td>\n",
       "      <td>NaN</td>\n",
       "      <td>NaN</td>\n",
       "      <td>0</td>\n",
       "      <td>Neither</td>\n",
       "      <td>0</td>\n",
       "      <td>0</td>\n",
       "      <td>0</td>\n",
       "      <td></td>\n",
       "      <td>0</td>\n",
       "      <td>0</td>\n",
       "      <td>0</td>\n",
       "    </tr>\n",
       "  </tbody>\n",
       "</table>\n",
       "</div>"
      ],
      "text/plain": [
       "   index NEWRACE2  pnrnmflag  irsex  sexatract   AGE2  IREDUHIGHST2  \\\n",
       "0      0    White          0      1        1.0    65+          15.0   \n",
       "1      1   Afr Am          0      1        1.0  35-49          15.0   \n",
       "2      2    Asian          0      1        1.0  35-49          13.0   \n",
       "3      3     Hisp          0      1        1.0  35-49          15.0   \n",
       "4      4    White          0      2        1.0    65+          12.0   \n",
       "\n",
       "   irpnrnmage  herage  oxcnnmage  herflag udpyhrpnr  pnrnmyr  udpypnr  \\\n",
       "0         NaN     NaN        NaN        0   Neither        0        0   \n",
       "1         NaN     NaN        NaN        0   Neither        0        0   \n",
       "2         NaN     NaN        NaN        0   Neither        0        0   \n",
       "3         NaN     NaN        NaN        0   Neither        0        0   \n",
       "4         NaN     NaN        NaN        0   Neither        0        0   \n",
       "\n",
       "   abodher SRCPNRNM2  pnranyyr  oxcnanyyr  iroxcnnmyr  \n",
       "0        0                   0          0           0  \n",
       "1        0                   0          0           0  \n",
       "2        0                   0          0           0  \n",
       "3        0                   0          0           0  \n",
       "4        0                   0          0           0  "
      ]
     },
     "execution_count": 8,
     "metadata": {},
     "output_type": "execute_result"
    }
   ],
   "source": [
    "nsduh.head()"
   ]
  },
  {
   "cell_type": "markdown",
   "metadata": {},
   "source": [
    "#### Age of First (Mis)Use Comparison\n",
    "One thing that I was interested in is the different in ages of when people started using (in the case of pain relievers and oxycontin, misusing) these opioids. I know that a lot of people have access to perscription opioids fairly early in life due surgeries and the like."
   ]
  },
  {
   "cell_type": "code",
   "execution_count": 9,
   "metadata": {},
   "outputs": [
    {
     "data": {
      "text/plain": [
       "count    1015.000000\n",
       "mean       22.776355\n",
       "std         7.392906\n",
       "min        10.000000\n",
       "25%        18.000000\n",
       "50%        21.000000\n",
       "75%        25.000000\n",
       "max        57.000000\n",
       "Name: herage, dtype: float64"
      ]
     },
     "execution_count": 9,
     "metadata": {},
     "output_type": "execute_result"
    }
   ],
   "source": [
    "nsduh['herage'].describe()"
   ]
  },
  {
   "cell_type": "code",
   "execution_count": 10,
   "metadata": {},
   "outputs": [
    {
     "data": {
      "text/plain": [
       "count    569.000000\n",
       "mean      25.246046\n",
       "std       13.732451\n",
       "min       11.000000\n",
       "25%       16.000000\n",
       "50%       20.000000\n",
       "75%       30.000000\n",
       "max       87.000000\n",
       "Name: irpnrnmage, dtype: float64"
      ]
     },
     "execution_count": 10,
     "metadata": {},
     "output_type": "execute_result"
    }
   ],
   "source": [
    "nsduh['irpnrnmage'].describe()"
   ]
  },
  {
   "cell_type": "code",
   "execution_count": 11,
   "metadata": {},
   "outputs": [
    {
     "data": {
      "text/plain": [
       "count    407.000000\n",
       "mean      22.439803\n",
       "std       10.256594\n",
       "min        8.000000\n",
       "25%       16.000000\n",
       "50%       18.000000\n",
       "75%       26.000000\n",
       "max       65.000000\n",
       "Name: oxcnnmage, dtype: float64"
      ]
     },
     "execution_count": 11,
     "metadata": {},
     "output_type": "execute_result"
    }
   ],
   "source": [
    "nsduh['oxcnnmage'].describe()"
   ]
  },
  {
   "cell_type": "markdown",
   "metadata": {},
   "source": [
    "This CDF illustrates how those who use heroin begin to do so a bit later in life than those who misuse pain relievers and oxycontin. Interstingly, the curve after that does straighten out more for pain reliever than for oxycontin, which could be due to differences in dosing for people of different ages."
   ]
  },
  {
   "cell_type": "code",
   "execution_count": 45,
   "metadata": {},
   "outputs": [
    {
     "data": {
      "image/png": "[encoded data removed]",
      "text/plain": [
       "<Figure size 432x288 with 1 Axes>"
      ]
     },
     "metadata": {
      "needs_background": "light"
     },
     "output_type": "display_data"
    }
   ],
   "source": [
    "her_age_cdf = Cdf(nsduh['herage'], label='heroin')\n",
    "pnr_age_cdf = Cdf(nsduh['irpnrnmage'], label='pain')\n",
    "oxy_age_cdf = Cdf(nsduh['oxcnnmage'], label='oxy')\n",
    "\n",
    "thinkplot.Cdf(her_age_cdf)\n",
    "thinkplot.Cdf(pnr_age_cdf)\n",
    "thinkplot.Cdf(oxy_age_cdf)\n",
    "thinkplot.Config(xlabel='Age of First (Mis)Use', ylabel='CDF', xlim = [5,50])"
   ]
  },
  {
   "cell_type": "markdown",
   "metadata": {},
   "source": [
    "This graphical comparison of ages got me curious about modeling these distributions. I thought that heroin first use age looked like a normal distribution, so I first tried plot that against a normal model, but found that there were some definite differences between those two. I then tried ploting the distribution against that a lognormal model. I found this plot to be much closer to the experimental distribution. It is interesting that this plot is so similar to a calculated model given that it is such a complex issue in the US today. Lognormal means that there are a number of independent and identically distributed factors causing the distribution, which is certainly true, but given that it follows so closely to this model makes me feel like intervention should be perhaps easier than a random model."
   ]
  },
  {
   "cell_type": "code",
   "execution_count": 48,
   "metadata": {},
   "outputs": [
    {
     "data": {
      "text/plain": [
       "{'xscale': 'linear', 'yscale': 'linear'}"
      ]
     },
     "execution_count": 48,
     "metadata": {},
     "output_type": "execute_result"
    },
    {
     "data": {
      "image/png": "[encoded data removed]",
      "text/plain": [
       "<Figure size 432x288 with 1 Axes>"
      ]
     },
     "metadata": {
      "needs_background": "light"
     },
     "output_type": "display_data"
    }
   ],
   "source": [
    "her_mu = nsduh['herage'].mean()\n",
    "her_sigma = nsduh['herage'].std()\n",
    "her_min = nsduh['herage'].min()\n",
    "her_max = nsduh['herage'].max()\n",
    "\n",
    "xs,ps = RenderNormalCdf(mu=her_mu, sigma=her_sigma,\n",
    "                                   low = her_min, high = her_max)\n",
    "\n",
    "\n",
    "thinkplot.Plot(xs, ps)\n",
    "thinkplot.Cdf(her_age_cdf)\n",
    "thinkplot.Config(xlabel='Age of First (Mis)Use', ylabel='CDF')"
   ]
  },
  {
   "cell_type": "code",
   "execution_count": 49,
   "metadata": {},
   "outputs": [
    {
     "data": {
      "image/png": "[encoded data removed]",
      "text/plain": [
       "<Figure size 432x288 with 1 Axes>"
      ]
     },
     "metadata": {
      "needs_background": "light"
     },
     "output_type": "display_data"
    }
   ],
   "source": [
    "log_her_ages = np.log10(nsduh['herage'])\n",
    "log_her_ages_cdf = Cdf(log_her_ages, label='log ages')\n",
    "\n",
    "her_mu = log_her_ages.mean()\n",
    "her_sigma = log_her_ages.std()\n",
    "her_min = log_her_ages.min()\n",
    "her_max = log_her_ages.max()\n",
    "\n",
    "xs,ps = RenderNormalCdf(mu=her_mu, sigma=her_sigma,\n",
    "                                   low = her_min, high = her_max)\n",
    "\n",
    "thinkplot.Plot(xs, ps, label = 'model')\n",
    "thinkplot.Cdf(log_her_ages_cdf)\n",
    "thinkplot.Config(xlabel='Age of First (Mis)Use', ylabel='CDF')"
   ]
  },
  {
   "cell_type": "markdown",
   "metadata": {},
   "source": [
    "I was also curious about the effect that education level and opioid abuse have on each other. If there is any effect, I think that it can go in both directions - that people with a lower education level are at a higher risk of abusing opioid and that those who do abuse opioids probably leave school at an earlier age."
   ]
  },
  {
   "cell_type": "code",
   "execution_count": 50,
   "metadata": {
    "scrolled": true
   },
   "outputs": [],
   "source": [
    "her_users = nsduh[nsduh['herflag'] == 1]\n",
    "pain_users = nsduh[nsduh['pnrnmflag'] == 1]\n",
    "non_users = nsduh[(nsduh['herflag'] == 0) & (nsduh['pnrnmflag'] == 0)]"
   ]
  },
  {
   "cell_type": "code",
   "execution_count": 54,
   "metadata": {},
   "outputs": [
    {
     "data": {
      "text/plain": [
       "count    1029.000000\n",
       "mean       12.267250\n",
       "std         1.587741\n",
       "min         5.000000\n",
       "25%        12.000000\n",
       "50%        12.000000\n",
       "75%        13.000000\n",
       "max        15.000000\n",
       "Name: IREDUHIGHST2, dtype: float64"
      ]
     },
     "execution_count": 54,
     "metadata": {},
     "output_type": "execute_result"
    }
   ],
   "source": [
    "her_users['IREDUHIGHST2'].describe()"
   ]
  },
  {
   "cell_type": "code",
   "execution_count": 52,
   "metadata": {},
   "outputs": [
    {
     "data": {
      "text/plain": [
       "count    5930.000000\n",
       "mean       12.556661\n",
       "std         2.073594\n",
       "min         5.000000\n",
       "25%        12.000000\n",
       "50%        13.000000\n",
       "75%        14.000000\n",
       "max        15.000000\n",
       "Name: IREDUHIGHST2, dtype: float64"
      ]
     },
     "execution_count": 52,
     "metadata": {},
     "output_type": "execute_result"
    }
   ],
   "source": [
    "pain_users['IREDUHIGHST2'].describe()"
   ]
  },
  {
   "cell_type": "code",
   "execution_count": 53,
   "metadata": {},
   "outputs": [
    {
     "data": {
      "text/plain": [
       "count    50003.000000\n",
       "mean        11.719537\n",
       "std          2.753651\n",
       "min          5.000000\n",
       "25%         10.000000\n",
       "50%         12.000000\n",
       "75%         14.000000\n",
       "max         15.000000\n",
       "Name: IREDUHIGHST2, dtype: float64"
      ]
     },
     "execution_count": 53,
     "metadata": {},
     "output_type": "execute_result"
    }
   ],
   "source": [
    "non_users['IREDUHIGHST2'].describe()"
   ]
  },
  {
   "cell_type": "markdown",
   "metadata": {},
   "source": [
    "Interestingly, the mean of opioid users tips past earning a GED or high school diploma while non-users do not. It seems like this is mostly due to differences in the distributions below the median. The comparative CDF below seems to corroborate this. There is a definite overlap at the median, but below that amount, non-users seem to have a higher chance of dropping out and above that, heroin users."
   ]
  },
  {
   "cell_type": "code",
   "execution_count": 60,
   "metadata": {},
   "outputs": [
    {
     "data": {
      "image/png": "[encoded data removed]",
      "text/plain": [
       "<Figure size 432x288 with 1 Axes>"
      ]
     },
     "metadata": {
      "needs_background": "light"
     },
     "output_type": "display_data"
    }
   ],
   "source": [
    "her_user_cdf = Cdf(her_users['IREDUHIGHST2'], label='heroin users')\n",
    "pain_users_cdf = Cdf(pain_users['IREDUHIGHST2'], label='pain users')\n",
    "non_users_cdf = Cdf(non_users['IREDUHIGHST2'], label='others')\n",
    "\n",
    "thinkplot.Cdf(her_user_cdf)\n",
    "thinkplot.Cdf(pain_users_cdf)\n",
    "thinkplot.Cdf(non_users_cdf)\n",
    "thinkplot.Config(xlabel='Education Level', ylabel='Count')"
   ]
  },
  {
   "cell_type": "markdown",
   "metadata": {},
   "source": [
    "To get a better understanding of the effect size between opioid users and non-users, I checked the mean differences and Cohen Effect Size for both heroin and pain releivers. There is a larger difference between pain reliever users compared to heroin users. Which might be due to how heroin users typically use for the first time later in life that those abusing pain relievers, which likely would effect if they are able to complete school or not."
   ]
  },
  {
   "cell_type": "code",
   "execution_count": 61,
   "metadata": {},
   "outputs": [
    {
     "data": {
      "text/plain": [
       "0.5477129292553435"
      ]
     },
     "execution_count": 61,
     "metadata": {},
     "output_type": "execute_result"
    }
   ],
   "source": [
    "her_users['IREDUHIGHST2'].mean()-non_users['IREDUHIGHST2'].mean()"
   ]
  },
  {
   "cell_type": "code",
   "execution_count": 62,
   "metadata": {},
   "outputs": [
    {
     "data": {
      "text/plain": [
       "0.2002565895448763"
      ]
     },
     "execution_count": 62,
     "metadata": {},
     "output_type": "execute_result"
    }
   ],
   "source": [
    "CohenEffectSize(her_users['IREDUHIGHST2'], \n",
    "                non_users['IREDUHIGHST2'])"
   ]
  },
  {
   "cell_type": "code",
   "execution_count": 63,
   "metadata": {},
   "outputs": [
    {
     "data": {
      "text/plain": [
       "0.8371242177408647"
      ]
     },
     "execution_count": 63,
     "metadata": {},
     "output_type": "execute_result"
    }
   ],
   "source": [
    "pain_users['IREDUHIGHST2'].mean()-non_users['IREDUHIGHST2'].mean()"
   ]
  },
  {
   "cell_type": "code",
   "execution_count": 64,
   "metadata": {},
   "outputs": [
    {
     "data": {
      "text/plain": [
       "0.31123191250392895"
      ]
     },
     "execution_count": 64,
     "metadata": {},
     "output_type": "execute_result"
    }
   ],
   "source": [
    "CohenEffectSize(pain_users['IREDUHIGHST2'], \n",
    "                non_users['IREDUHIGHST2'])"
   ]
  },
  {
   "cell_type": "markdown",
   "metadata": {},
   "source": [
    "Given that there seems to be an effect due to heroin users, I decided to investigate the relationship to the age of first use and their education level. While the herion-use scatter plot does not seem to have a particularly noticeable relationship, the use of pain relievers has a very strong one. I had trouble using the correlation functions, so I will work on those and include them in the final hand-in."
   ]
  },
  {
   "cell_type": "code",
   "execution_count": 72,
   "metadata": {},
   "outputs": [
    {
     "data": {
      "image/png": "[encoded data removed]",
      "text/plain": [
       "<Figure size 432x288 with 1 Axes>"
      ]
     },
     "metadata": {
      "needs_background": "light"
     },
     "output_type": "display_data"
    }
   ],
   "source": [
    "her_ages = her_users['herage']\n",
    "her_educ = Jitter(her_users['IREDUHIGHST2'], 0.5)\n",
    "\n",
    "thinkplot.Scatter(her_ages, her_educ)\n",
    "thinkplot.Config(xlabel='Age of First (Mis)Use', ylabel='Education Level')"
   ]
  },
  {
   "cell_type": "code",
   "execution_count": 74,
   "metadata": {},
   "outputs": [
    {
     "data": {
      "image/png": "[encoded data removed]",
      "text/plain": [
       "<Figure size 432x288 with 1 Axes>"
      ]
     },
     "metadata": {
      "needs_background": "light"
     },
     "output_type": "display_data"
    }
   ],
   "source": [
    "pain_ages = pain_users['irpnrnmage']\n",
    "pain_educ = Jitter(pain_users['IREDUHIGHST2'], 0.5)\n",
    "\n",
    "thinkplot.Scatter(pain_ages, pain_educ)\n",
    "thinkplot.Config(xlabel='Age of First (Mis)Use', ylabel='Education Level')"
   ]
  }
 ],
 "metadata": {
  "kernelspec": {
   "display_name": "Python 3",
   "language": "python",
   "name": "python3"
  },
  "language_info": {
   "codemirror_mode": {
    "name": "ipython",
    "version": 3
   },
   "file_extension": ".py",
   "mimetype": "text/x-python",
   "name": "python",
   "nbconvert_exporter": "python",
   "pygments_lexer": "ipython3",
   "version": "3.6.7"
  }
 },
 "nbformat": 4,
 "nbformat_minor": 2
}

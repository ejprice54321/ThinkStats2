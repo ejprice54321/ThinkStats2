{
 "cells": [
  {
   "cell_type": "markdown",
   "metadata": {},
   "source": [
    "# Exploring the Opioid Epidemic\n",
    "### Emma Price"
   ]
  },
  {
   "cell_type": "markdown",
   "metadata": {},
   "source": [
    "In this file I loaded data from the 2017 National Survey of Drug Use and Health (NSDUH). I determined columns that I was interested in by searching through the Substance Abuse nad Mental Health Data Archive and cleaned those by removing or shortening the longer text values. I then loaded just those columns into a new stata file. I analyze this data in the file [data_analysis.ipynd](http://localhost:8888/notebooks/data_analysis.ipynb)."
   ]
  },
  {
   "cell_type": "code",
   "execution_count": 24,
   "metadata": {},
   "outputs": [],
   "source": [
    "import pandas as pd\n",
    "import numpy as np"
   ]
  },
  {
   "cell_type": "code",
   "execution_count": 2,
   "metadata": {},
   "outputs": [],
   "source": [
    "data = pd.read_stata('NSDUH_2017.DTA')"
   ]
  },
  {
   "cell_type": "code",
   "execution_count": 3,
   "metadata": {},
   "outputs": [],
   "source": [
    "def replace_weird_ones(x, bad_words):\n",
    "    \"\"\"\n",
    "    replaces strange value entries in a column with NaN\n",
    "    \n",
    "    x: column of interest\n",
    "    bad_words: words to replace\n",
    "    \n",
    "    returns: corrected column\n",
    "    \"\"\"\n",
    "    if x in bad_words:\n",
    "        return np.NaN\n",
    "    else:\n",
    "        return x"
   ]
  },
  {
   "cell_type": "code",
   "execution_count": 4,
   "metadata": {},
   "outputs": [],
   "source": [
    "# Oxycontin - Past Year Misuse\n",
    "data['iroxcnnmyr'].replace('9 - Did not misuse in the past 12 months', 0, inplace = True)\n",
    "data['iroxcnnmyr'].replace('1 - Misused in the past 12 months', 1, inplace = True)"
   ]
  },
  {
   "cell_type": "code",
   "execution_count": 5,
   "metadata": {},
   "outputs": [],
   "source": [
    "# Any Oxycontin Use Past 12 Mos\n",
    "data['oxcnanyyr'].replace(['91 - NEVER USED PAIN RELIEVERS', '93 - DID NOT USE IN THE PAST 12 MONTHS', '95 - I have not used any of these Pain Relievers in the past 12 months', '94 - DON T KNOW', '81 - NEVER USED PAIN RLVRS Logically assigned', '97 - REFUSED', '98 - BLANK', '85 - BAD DATA Logically assigned', '2 - No'], 0, inplace = True)\n",
    "data['oxcnanyyr'].replace(['1 - Yes', '5 - Yes LOGICALLY ASSIGNED'], 1, inplace = True)"
   ]
  },
  {
   "cell_type": "code",
   "execution_count": 6,
   "metadata": {},
   "outputs": [],
   "source": [
    "# Any Pain Reliever - Past Year Use\n",
    "data['pnranyyr'].replace('0 - Did not use in the past year', 0, inplace = True)\n",
    "data['pnranyyr'].replace('1 - Used within the past year', 1, inplace = True)"
   ]
  },
  {
   "cell_type": "code",
   "execution_count": 7,
   "metadata": {},
   "outputs": [],
   "source": [
    "# Source of last misused pain killer\n",
    "data['SRCPNRNM2'].replace('4 - Got From Friend or Relative for Free', 'Friend/Family', inplace = True)\n",
    "data['SRCPNRNM2'].replace('1 - Got From One Doctor', 'Dr', inplace = True)\n",
    "data['SRCPNRNM2'].replace('5 - Bought from Friend or Relative', 'Buy Friend/Family', inplace = True)\n",
    "data['SRCPNRNM2'].replace('7 - Bought from Drug Dealer or Other Stranger', 'Dealer', inplace = True)\n",
    "data['SRCPNRNM2'].replace('6 - Took from Friend or Relative without Asking', 'Stole Friend/Family', inplace = True)\n",
    "data['SRCPNRNM2'].replace('8 - Got Some Other Way', 'Other', inplace = True)\n",
    "data['SRCPNRNM2'].replace('2 - Got From More Than One Doctor', 'Multiple Drs', inplace = True)\n",
    "data['SRCPNRNM2'].replace('3 - Stole from Dr Office, Clinic, Hospital, or Pharmacy', 'Stole Dr', inplace = True)"
   ]
  },
  {
   "cell_type": "code",
   "execution_count": 8,
   "metadata": {},
   "outputs": [],
   "source": [
    "# Heroin Dependence/Abuse - Past Year\n",
    "data['abodher'].replace('0 - No/Unknown', 0, inplace = True)\n",
    "data['abodher'].replace('1 - Yes', 1, inplace = True)"
   ]
  },
  {
   "cell_type": "code",
   "execution_count": 9,
   "metadata": {},
   "outputs": [],
   "source": [
    "# Pain Reliever Dependence/Abuse - Past Year\n",
    "data['udpypnr'].replace('0 - No', 0, inplace = True)\n",
    "data['udpypnr'].replace('1 - Yes', 1, inplace = True)"
   ]
  },
  {
   "cell_type": "code",
   "execution_count": 10,
   "metadata": {},
   "outputs": [],
   "source": [
    "# Pain Reliever Misuse - Past Year\n",
    "data['pnrnmyr'].replace('0 - Did not misuse in the past year', 0, inplace = True)\n",
    "data['pnrnmyr'].replace('1 - Misused within the past year', 1, inplace = True)"
   ]
  },
  {
   "cell_type": "code",
   "execution_count": 11,
   "metadata": {},
   "outputs": [],
   "source": [
    "# Heroin and/or Pain Reliever Dependence or Abuse - Past Year\n",
    "data['udpyhrpnr'].replace('4 - Neither','Neither', inplace = True)\n",
    "data['udpyhrpnr'].replace('2 - Pain reliever only', 'Pain Reliever', inplace = True)\n",
    "data['udpyhrpnr'].replace('3 - Heroin and pain reliever','Heroin and Pain Reliever', inplace = True)\n",
    "data['udpyhrpnr'].replace('1 - Heroin only', 'Heroin', inplace = True)"
   ]
  },
  {
   "cell_type": "code",
   "execution_count": 12,
   "metadata": {},
   "outputs": [],
   "source": [
    "# Heroin - Ever Used\n",
    "data['herflag'].replace('0 - Never used',0, inplace = True)\n",
    "data['herflag'].replace('1 - Ever used', 1, inplace = True)"
   ]
  },
  {
   "cell_type": "code",
   "execution_count": 13,
   "metadata": {},
   "outputs": [],
   "source": [
    "# Age 1st Used Oxycontin Not Directed By Dr\n",
    "data['oxcnnmage'] = data['oxcnnmage'].apply(replace_weird_ones, bad_words = ['991 - NEVER USED/MISUSED PAIN RELIEVERS', '993 - DID NOT USE IN THE PAST 12 MONTHS', '998 - BLANK', '994 - DON T KNOW', '981 - NEVER USED PAIN RLVRS Logically assigned', '997 - REFUSED', '985 - BAD DATA Logically assigned'])"
   ]
  },
  {
   "cell_type": "code",
   "execution_count": 14,
   "metadata": {},
   "outputs": [],
   "source": [
    "# Age 1st Used Heroin\n",
    "data['herage'] = data['herage'].apply(replace_weird_ones, bad_words = ['991 - NEVER USED HEROIN', '998 - BLANK', '994 - DON T KNOW', '997 - REFUSED', '985 - BAD DATA Logically assigned'])\n",
    "data['herage'].replace(1.0, np.NaN, inplace = True)"
   ]
  },
  {
   "cell_type": "code",
   "execution_count": 15,
   "metadata": {},
   "outputs": [],
   "source": [
    "# Age 1st Misused Pain Reliever\n",
    "data['irpnrnmage'] = data['irpnrnmage'].apply(replace_weird_ones, bad_words = ['999 - NEVER MISUSED', '993 - NOT A PAST YEAR INITIATE', '998 - BLANK', '994 - DON T KNOW', '997 - REFUSED', '985 - BAD DATA Logically assigned'])\n",
    "data['irpnrnmage'].replace(1.0, np.NaN, inplace = True)"
   ]
  },
  {
   "cell_type": "code",
   "execution_count": 16,
   "metadata": {},
   "outputs": [],
   "source": [
    "# Education\n",
    "data['IREDUHIGHST2'].replace('11 - College graduate or higher',15.0, inplace = True)\n",
    "data['IREDUHIGHST2'].replace('8 - High school diploma/GED', 12.0, inplace = True)\n",
    "data['IREDUHIGHST2'].replace('9 - Some college credit, but no degree', 13.0, inplace = True)\n",
    "data['IREDUHIGHST2'].replace('7 - Eleventh or Twelfth grade completed, no diploma',11.0, inplace = True)\n",
    "data['IREDUHIGHST2'].replace('10 - Associate s degree', 14.0, inplace = True)\n",
    "data['IREDUHIGHST2'].replace('6 - Tenth grade completed',10.0, inplace = True)\n",
    "data['IREDUHIGHST2'].replace('5 - Ninth grade completed', 9.0, inplace = True)\n",
    "data['IREDUHIGHST2'].replace('4 - Eighth grade completed',8.0, inplace = True)\n",
    "data['IREDUHIGHST2'].replace('3 - Seventh grade completed', 7.0, inplace = True)\n",
    "data['IREDUHIGHST2'].replace('2 - Sixth grade completed',6.0, inplace = True)\n",
    "data['IREDUHIGHST2'].replace('1 - Fifth grade or less grade completed', 5.0, inplace = True)"
   ]
  },
  {
   "cell_type": "code",
   "execution_count": 17,
   "metadata": {},
   "outputs": [],
   "source": [
    "# Age\n",
    "data['AGE2'].replace('17 - Respondent is 65 years old or older','65+', inplace = True)\n",
    "data['AGE2'].replace('16 - Respondent is between 50 and 64 years old', '50-64', inplace = True)\n",
    "data['AGE2'].replace('15 - Respondent is between 35 and 49 years old', '35-49', inplace = True)\n",
    "data['AGE2'].replace('14 - Respondent is between 30 and 34 years old','30-34', inplace = True)\n",
    "data['AGE2'].replace('13 - Respondent is between 26 and 29 years old', '26-29', inplace = True)\n",
    "data['AGE2'].replace('12 - Respondent is 24 or 25 years old','24-25', inplace = True)\n",
    "data['AGE2'].replace('11 - Respondent is 22 or 23 years old', '22-23', inplace = True)\n",
    "data['AGE2'].replace('10 - Respondent is 21 years old','21', inplace = True)\n",
    "data['AGE2'].replace('9 - Respondent is 20 years old', '20', inplace = True)\n",
    "data['AGE2'].replace('8 - Respondent is 19 years old','19', inplace = True)\n",
    "data['AGE2'].replace('7 - Respondent is 18 years old', '18', inplace = True)\n",
    "data['AGE2'].replace('6 - Respondent is 17 years old', '17', inplace = True)\n",
    "data['AGE2'].replace('5 - Respondent is 16 years old','16', inplace = True)\n",
    "data['AGE2'].replace('4 - Respondent is 15 years old', '15', inplace = True)\n",
    "data['AGE2'].replace('3 - Respondent is 14 years old','14', inplace = True)\n",
    "data['AGE2'].replace('2 - Respondent is 13 years old', '13', inplace = True)\n",
    "data['AGE2'].replace('1 - Respondent is 12 years old', '12', inplace = True)"
   ]
  },
  {
   "cell_type": "code",
   "execution_count": 18,
   "metadata": {
    "scrolled": false
   },
   "outputs": [],
   "source": [
    "# Sexual Orientation\n",
    "data['sexatract'] = data['sexatract'].apply(replace_weird_ones, bad_words = ['99 - LEGITIMATE SKIP', '97 - REFUSED', '998 - BLANK', '94 - DON T KNOW', '98 - BLANK', '85 - BAD DATA Logically assigned'])\n",
    "data['sexatract'].replace('1 - I am only attracted to opposite sex',1, inplace = True)\n",
    "data['sexatract'].replace('2 - I am mostly attracted to opposite sex', 2, inplace = True)\n",
    "data['sexatract'].replace('3 - I am equally attracted to males and females', 3, inplace = True)\n",
    "data['sexatract'].replace('4 - I am mostly attracted to same sex',4, inplace = True)\n",
    "data['sexatract'].replace('5 - I am only attracted to same sex', 5, inplace = True)\n",
    "data['sexatract'].replace('6 - I am not sure',6, inplace = True)"
   ]
  },
  {
   "cell_type": "code",
   "execution_count": 19,
   "metadata": {},
   "outputs": [],
   "source": [
    "# Sex\n",
    "data['irsex'].replace('2 - Female',2, inplace = True)\n",
    "data['irsex'].replace('1 - Male', 1, inplace = True)"
   ]
  },
  {
   "cell_type": "code",
   "execution_count": 20,
   "metadata": {
    "scrolled": true
   },
   "outputs": [],
   "source": [
    "# Pain Relievers - Ever Misused\n",
    "data['pnrnmflag'].replace('0 - Never misused',0, inplace = True)\n",
    "data['pnrnmflag'].replace('1 - Ever misused', 1, inplace = True)"
   ]
  },
  {
   "cell_type": "code",
   "execution_count": 21,
   "metadata": {},
   "outputs": [],
   "source": [
    "# Race/Ethnicity\n",
    "data['NEWRACE2'].replace('1 - NonHisp White','White', inplace = True)\n",
    "data['NEWRACE2'].replace('2 - NonHisp Black/Afr Am', 'Afr Am', inplace = True)\n",
    "data['NEWRACE2'].replace('3 - NonHisp Native Am/AK Native', 'Nat Am', inplace = True)\n",
    "data['NEWRACE2'].replace('4 - NonHisp Native HI/Other Pac Isl','Pac Isl', inplace = True)\n",
    "data['NEWRACE2'].replace('5 - NonHisp Asian', 'Asian', inplace = True)\n",
    "data['NEWRACE2'].replace('6 - NonHisp more than one race','Mult', inplace = True)\n",
    "data['NEWRACE2'].replace('7 - Hispanic','Hisp', inplace = True)"
   ]
  },
  {
   "cell_type": "code",
   "execution_count": 22,
   "metadata": {
    "scrolled": false
   },
   "outputs": [],
   "source": [
    "nsduh = data.filter(['NEWRACE2','pnrnmflag','irsex','sexatract', 'AGE2', 'IREDUHIGHST2','irpnrnmage','herage','oxcnnmage','herflag','udpyhrpnr','pnrnmyr','udpypnr','abodher','SRCPNRNM2','pnranyyr','oxcnanyyr','iroxcnnmyr'], axis=1)"
   ]
  },
  {
   "cell_type": "code",
   "execution_count": 23,
   "metadata": {},
   "outputs": [],
   "source": [
    "nsduh.to_stata('nsduh.dta')"
   ]
  }
 ],
 "metadata": {
  "kernelspec": {
   "display_name": "Python 3",
   "language": "python",
   "name": "python3"
  },
  "language_info": {
   "codemirror_mode": {
    "name": "ipython",
    "version": 3
   },
   "file_extension": ".py",
   "mimetype": "text/x-python",
   "name": "python",
   "nbconvert_exporter": "python",
   "pygments_lexer": "ipython3",
   "version": "3.6.7"
  }
 },
 "nbformat": 4,
 "nbformat_minor": 2
}

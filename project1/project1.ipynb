{
 "cells": [
  {
   "cell_type": "markdown",
   "metadata": {},
   "source": [
    "# Exploring the Opioid Epidemic\n",
    "### Emma Price"
   ]
  },
  {
   "cell_type": "markdown",
   "metadata": {},
   "source": [
    "please see [data_cleaning.ipynd](http://localhost:8888/notebooks/data_cleaning.ipynb) for my data cleaning code and [data_analysis.ipynd](http://localhost:8888/notebooks/data_analysis.ipynb) for my data analysis."
   ]
  }
 ],
 "metadata": {
  "kernelspec": {
   "display_name": "Python 3",
   "language": "python",
   "name": "python3"
  },
  "language_info": {
   "codemirror_mode": {
    "name": "ipython",
    "version": 3
   },
   "file_extension": ".py",
   "mimetype": "text/x-python",
   "name": "python",
   "nbconvert_exporter": "python",
   "pygments_lexer": "ipython3",
   "version": "3.6.7"
  }
 },
 "nbformat": 4,
 "nbformat_minor": 2
}
